{
 "cells": [
  {
   "cell_type": "code",
   "execution_count": 1,
   "metadata": {},
   "outputs": [],
   "source": [
    "# get db url \n",
    "#create db engine via sqlalchemy    "
   ]
  },
  {
   "cell_type": "code",
   "execution_count": 2,
   "metadata": {},
   "outputs": [],
   "source": [
    "from getpass import getpass\n",
    "from env import config\n",
    "from sqlalchemy import create_engine, text"
   ]
  },
  {
   "cell_type": "code",
   "execution_count": 3,
   "metadata": {},
   "outputs": [
    {
     "data": {
      "text/plain": [
       "True"
      ]
     },
     "execution_count": 3,
     "metadata": {},
     "output_type": "execute_result"
    }
   ],
   "source": [
    "DATABASE_URL = config(\"DATABASE_URL\", cast=str, default=None)\n",
    "DATABASE_URL is not None"
   ]
  },
  {
   "cell_type": "code",
   "execution_count": 4,
   "metadata": {},
   "outputs": [],
   "source": [
    "engine = create_engine(str(DATABASE_URL))"
   ]
  },
  {
   "cell_type": "code",
   "execution_count": 5,
   "metadata": {},
   "outputs": [],
   "source": [
    "new_username = \"mindsdb\"\n",
    "new_password = getpass()"
   ]
  },
  {
   "cell_type": "code",
   "execution_count": 6,
   "metadata": {},
   "outputs": [],
   "source": [
    "dbs =[\"housing_db\", \" ai_travel_prices\"]\n",
    "with engine.connect() as conn:\n",
    "    create_user_sql = f\"CREATE USER '{new_username}'@'%' IDENTIFIED BY '{new_password}';\" # creates a new user with the specified username (new_username) and password (new_password). The '%' means that the user can connect from any host.\n",
    "    conn.execute(text(create_user_sql))\n",
    "\n",
    "    for db in dbs:\n",
    "        db_sql_perms = f\"GRANT ALL PRIVILEGES ON {db}.* TO '{new_username}'@'%';\"# iterates over each database in the dbs list and grants the new user all privileges on each database.\n",
    "        conn.execute(text(db_sql_perms))\n",
    "    db_sql_new_dbs = f\"GRANT CREATE ON *.* to '{new_username}'@'%';\"# grants the new user the CREATE privilege on all databases. This means the user can create new databases and tables.\n",
    "    conn.execute(text(db_sql_new_dbs))\n",
    "    conn.execute(text(\"FLUSH PRIVILEGES;\")) #refreshes the privileges in the MariaDB server, ensuring that the changes take effect immediately."
   ]
  },
  {
   "cell_type": "code",
   "execution_count": null,
   "metadata": {},
   "outputs": [],
   "source": [
    "# DB_NAME2=\"ai_travel_prices\"\n",
    "# with engine.connect() as conn:\n",
    "#     conn.execute(text(f\"DROP DATABASE {DB_NAME2}\"))"
   ]
  },
  {
   "cell_type": "code",
   "execution_count": 8,
   "metadata": {},
   "outputs": [
    {
     "name": "stdout",
     "output_type": "stream",
     "text": [
      "[('ai_travel_prices',), ('housing_db',), ('information_schema',), ('mysql',), ('performance_schema',), ('sys',)]\n"
     ]
    }
   ],
   "source": [
    "with engine.connect() as conn:\n",
    "    results=conn.execute(text(f\"SHOW DATABASES\"))\n",
    "    print(results.all())"
   ]
  },
  {
   "cell_type": "code",
   "execution_count": null,
   "metadata": {},
   "outputs": [],
   "source": []
  }
 ],
 "metadata": {
  "kernelspec": {
   "display_name": "env",
   "language": "python",
   "name": "python3"
  },
  "language_info": {
   "codemirror_mode": {
    "name": "ipython",
    "version": 3
   },
   "file_extension": ".py",
   "mimetype": "text/x-python",
   "name": "python",
   "nbconvert_exporter": "python",
   "pygments_lexer": "ipython3",
   "version": "3.11.9"
  }
 },
 "nbformat": 4,
 "nbformat_minor": 2
}
