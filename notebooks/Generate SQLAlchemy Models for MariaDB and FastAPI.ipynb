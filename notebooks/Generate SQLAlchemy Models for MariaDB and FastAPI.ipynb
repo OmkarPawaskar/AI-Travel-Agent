{
 "cells": [
  {
   "cell_type": "code",
   "execution_count": 1,
   "metadata": {},
   "outputs": [],
   "source": [
    "# get db url \n",
    "#create db engine via sqlalchemy     "
   ]
  },
  {
   "cell_type": "code",
   "execution_count": 2,
   "metadata": {},
   "outputs": [],
   "source": [
    "from env import config\n",
    "from sqlalchemy import create_engine, text, Column, BigInteger, Date, String, Integer, Boolean\n",
    "from sqlalchemy.orm import sessionmaker,DeclarativeBase\n",
    "\n",
    "class Base(DeclarativeBase):\n",
    "    pass"
   ]
  },
  {
   "cell_type": "code",
   "execution_count": 11,
   "metadata": {},
   "outputs": [
    {
     "data": {
      "text/plain": [
       "True"
      ]
     },
     "execution_count": 11,
     "metadata": {},
     "output_type": "execute_result"
    }
   ],
   "source": [
    "DATABASE_URL = config(\"FLIGHT_PRICES_DATABASE_URL\", cast=str, default=None)\n",
    "DATABASE_URL is not None"
   ]
  },
  {
   "cell_type": "code",
   "execution_count": 12,
   "metadata": {},
   "outputs": [],
   "source": [
    "engine = create_engine(str(DATABASE_URL))"
   ]
  },
  {
   "cell_type": "code",
   "execution_count": 13,
   "metadata": {},
   "outputs": [],
   "source": [
    "# index \n",
    "# flightDate             datetime64[ns]\n",
    "# startingAirport                object\n",
    "# destinationAirport             object\n",
    "# isBasicEconomy                   bool\n",
    "# isRefundable                     bool\n",
    "# isNonStop                        bool\n",
    "# segmentsAirlineName            object\n",
    "# totalFare                       int64"
   ]
  },
  {
   "cell_type": "code",
   "execution_count": 16,
   "metadata": {},
   "outputs": [
    {
     "name": "stderr",
     "output_type": "stream",
     "text": [
      "C:\\Users\\Omkar Pawaskar\\AppData\\Local\\Temp\\ipykernel_40616\\507866112.py:1: SAWarning: This declarative base already contains a class with the same class name and module name as __main__.FlightPrice, and will be replaced in the string-lookup table.\n",
      "  class FlightPrice(Base):\n"
     ]
    }
   ],
   "source": [
    "class FlightPrice(Base):\n",
    "    __tablename__ = \"flight_prices\"\n",
    "    __table_args__ = {\"extend_existing\": True}\n",
    "    id = Column(\"index\", BigInteger, primary_key=True)\n",
    "    flight_date = Column(\"flightDate\",Date)\n",
    "    startingAirport = Column(String)\n",
    "    destinationAirport = Column(String)\n",
    "    is_basic = Column(\"isBasicEconomy\",Boolean)\n",
    "    is_refundable = Column(\"isRefundable\",Boolean)\n",
    "    is_nonstop = Column(\"isNonStop\",Boolean)\n",
    "    segmentsAirlineName = Column(String)\n",
    "    totalFare = Column(Integer)        "
   ]
  },
  {
   "cell_type": "code",
   "execution_count": 17,
   "metadata": {},
   "outputs": [
    {
     "name": "stdout",
     "output_type": "stream",
     "text": [
      "0 2022-04-17 00:00:00\n",
      "1 2022-04-17 00:00:00\n",
      "2 2022-04-17 00:00:00\n",
      "3 2022-04-17 00:00:00\n",
      "4 2022-04-17 00:00:00\n",
      "5 2022-04-17 00:00:00\n",
      "6 2022-04-17 00:00:00\n",
      "7 2022-04-17 00:00:00\n",
      "8 2022-04-17 00:00:00\n",
      "9 2022-04-17 00:00:00\n"
     ]
    }
   ],
   "source": [
    "SessionLocal = sessionmaker(bind=engine)\n",
    "session = SessionLocal()\n",
    "\n",
    "queryset = session.query(FlightPrice).limit(10).all()\n",
    "for row_value in queryset:\n",
    "    print(row_value.id, row_value.flight_date,)\n",
    "\n",
    "session.close()"
   ]
  },
  {
   "cell_type": "code",
   "execution_count": 29,
   "metadata": {},
   "outputs": [],
   "source": [
    "from pydantic import BaseModel\n",
    "from datetime import date\n",
    "\n",
    "class FlightPriceSchema(BaseModel):\n",
    "    id: int\n",
    "    flight_date: date\n",
    "    startingAirport: str\n",
    "    destinationAirport: str\n",
    "    is_basic: bool\n",
    "    is_refundable: bool\n",
    "    is_nonstop: bool\n",
    "    segmentsAirlineName: str\n",
    "    totalFare: int\n",
    "\n",
    "    class Config:\n",
    "        from_attributes = True"
   ]
  },
  {
   "cell_type": "code",
   "execution_count": 30,
   "metadata": {},
   "outputs": [
    {
     "name": "stdout",
     "output_type": "stream",
     "text": [
      "{\"id\":0,\"flight_date\":\"2022-04-17\",\"startingAirport\":\"ATL\",\"destinationAirport\":\"BOS\",\"is_basic\":false,\"is_refundable\":false,\"is_nonstop\":false,\"segmentsAirlineName\":\"American Airlines||American Airlines\",\"totalFare\":273} \n",
      "\n",
      "{\"id\":1,\"flight_date\":\"2022-04-17\",\"startingAirport\":\"ATL\",\"destinationAirport\":\"BOS\",\"is_basic\":false,\"is_refundable\":false,\"is_nonstop\":false,\"segmentsAirlineName\":\"Spirit Airlines||Spirit Airlines\",\"totalFare\":301} \n",
      "\n",
      "{\"id\":2,\"flight_date\":\"2022-04-17\",\"startingAirport\":\"ATL\",\"destinationAirport\":\"BOS\",\"is_basic\":false,\"is_refundable\":false,\"is_nonstop\":false,\"segmentsAirlineName\":\"United||United\",\"totalFare\":352} \n",
      "\n",
      "{\"id\":3,\"flight_date\":\"2022-04-17\",\"startingAirport\":\"ATL\",\"destinationAirport\":\"BOS\",\"is_basic\":false,\"is_refundable\":false,\"is_nonstop\":true,\"segmentsAirlineName\":\"American Airlines\",\"totalFare\":355} \n",
      "\n",
      "{\"id\":4,\"flight_date\":\"2022-04-17\",\"startingAirport\":\"ATL\",\"destinationAirport\":\"BOS\",\"is_basic\":false,\"is_refundable\":false,\"is_nonstop\":true,\"segmentsAirlineName\":\"Delta\",\"totalFare\":307} \n",
      "\n",
      "{\"id\":5,\"flight_date\":\"2022-04-17\",\"startingAirport\":\"ATL\",\"destinationAirport\":\"BOS\",\"is_basic\":false,\"is_refundable\":false,\"is_nonstop\":true,\"segmentsAirlineName\":\"JetBlue Airways\",\"totalFare\":302} \n",
      "\n",
      "{\"id\":6,\"flight_date\":\"2022-04-17\",\"startingAirport\":\"ATL\",\"destinationAirport\":\"BOS\",\"is_basic\":true,\"is_refundable\":false,\"is_nonstop\":false,\"segmentsAirlineName\":\"United||United\",\"totalFare\":307} \n",
      "\n",
      "{\"id\":7,\"flight_date\":\"2022-04-17\",\"startingAirport\":\"ATL\",\"destinationAirport\":\"CLT\",\"is_basic\":false,\"is_refundable\":false,\"is_nonstop\":false,\"segmentsAirlineName\":\"American Airlines||American Airlines\",\"totalFare\":492} \n",
      "\n",
      "{\"id\":8,\"flight_date\":\"2022-04-17\",\"startingAirport\":\"ATL\",\"destinationAirport\":\"CLT\",\"is_basic\":false,\"is_refundable\":false,\"is_nonstop\":false,\"segmentsAirlineName\":\"JetBlue Airways||JetBlue Airways\",\"totalFare\":543} \n",
      "\n",
      "{\"id\":9,\"flight_date\":\"2022-04-17\",\"startingAirport\":\"ATL\",\"destinationAirport\":\"CLT\",\"is_basic\":false,\"is_refundable\":false,\"is_nonstop\":false,\"segmentsAirlineName\":\"United||United\",\"totalFare\":467} \n",
      "\n"
     ]
    }
   ],
   "source": [
    "SessionLocal = sessionmaker(bind= engine)\n",
    "session = SessionLocal()\n",
    "\n",
    "queryset = session.query(FlightPrice).limit(10).all()\n",
    "for row_value in queryset:\n",
    "    data = FlightPriceSchema.from_orm(row_value)\n",
    "    print(data.json(), '\\n')\n",
    "\n",
    "\n",
    "session.close()"
   ]
  },
  {
   "cell_type": "code",
   "execution_count": null,
   "metadata": {},
   "outputs": [],
   "source": []
  },
  {
   "cell_type": "code",
   "execution_count": null,
   "metadata": {},
   "outputs": [],
   "source": []
  }
 ],
 "metadata": {
  "kernelspec": {
   "display_name": "env",
   "language": "python",
   "name": "python3"
  },
  "language_info": {
   "codemirror_mode": {
    "name": "ipython",
    "version": 3
   },
   "file_extension": ".py",
   "mimetype": "text/x-python",
   "name": "python",
   "nbconvert_exporter": "python",
   "pygments_lexer": "ipython3",
   "version": "3.11.9"
  }
 },
 "nbformat": 4,
 "nbformat_minor": 2
}
